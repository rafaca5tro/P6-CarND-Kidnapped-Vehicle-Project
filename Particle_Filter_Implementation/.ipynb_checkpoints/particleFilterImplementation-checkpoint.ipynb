{
 "cells": [
  {
   "cell_type": "markdown",
   "metadata": {},
   "source": [
    "# Homogeneus Transformation"
   ]
  },
  {
   "cell_type": "markdown",
   "metadata": {},
   "source": [
    "![title](img/formula.png)"
   ]
  },
  {
   "cell_type": "code",
   "execution_count": 14,
   "metadata": {},
   "outputs": [],
   "source": [
    "import math"
   ]
  },
  {
   "cell_type": "code",
   "execution_count": 15,
   "metadata": {},
   "outputs": [],
   "source": [
    "def homogeneusTransformation(x_particle, y_particle, theta, x_obs, y_obs):\n",
    "    x_map = x_particle + (math.cos(theta)*x_obs) - (math.sin(theta)*y_obs)\n",
    "    x_map = int(round(x_map,0))\n",
    "    y_map = y_particle + (math.sin(theta)*x_obs) + (math.cos(theta)*y_obs)\n",
    "    y_map = int(round(y_map,0))\n",
    "    return x_map,y_map"
   ]
  },
  {
   "cell_type": "code",
   "execution_count": 16,
   "metadata": {},
   "outputs": [],
   "source": [
    "## Coordinates OBS1\n",
    "x_part = 4\n",
    "y_part = 5\n",
    "x_obs = 2\n",
    "y_obs = 2\n",
    "theta = -math.pi/2"
   ]
  },
  {
   "cell_type": "code",
   "execution_count": 17,
   "metadata": {},
   "outputs": [
    {
     "data": {
      "text/plain": [
       "(6, 3)"
      ]
     },
     "execution_count": 17,
     "metadata": {},
     "output_type": "execute_result"
    }
   ],
   "source": [
    "homogeneusTransformation(x_part,y_part,theta,x_obs,y_obs)"
   ]
  },
  {
   "cell_type": "code",
   "execution_count": 18,
   "metadata": {},
   "outputs": [],
   "source": [
    "## Coordinates OBS2\n",
    "x_part = 4\n",
    "y_part = 5\n",
    "x_obs = 3\n",
    "y_obs = -2\n",
    "theta = -math.pi/2"
   ]
  },
  {
   "cell_type": "code",
   "execution_count": 19,
   "metadata": {},
   "outputs": [
    {
     "data": {
      "text/plain": [
       "(2, 2)"
      ]
     },
     "execution_count": 19,
     "metadata": {},
     "output_type": "execute_result"
    }
   ],
   "source": [
    "homogeneusTransformation(x_part,y_part,theta,x_obs,y_obs)"
   ]
  },
  {
   "cell_type": "code",
   "execution_count": 20,
   "metadata": {},
   "outputs": [],
   "source": [
    "## Coordinates OBS3\n",
    "x_part = 4\n",
    "y_part = 5\n",
    "x_obs = 0\n",
    "y_obs = -4\n",
    "theta = -math.pi/2"
   ]
  },
  {
   "cell_type": "code",
   "execution_count": 21,
   "metadata": {},
   "outputs": [
    {
     "data": {
      "text/plain": [
       "(0, 5)"
      ]
     },
     "execution_count": 21,
     "metadata": {},
     "output_type": "execute_result"
    }
   ],
   "source": [
    "homogeneusTransformation(x_part,y_part,theta,x_obs,y_obs)"
   ]
  },
  {
   "cell_type": "markdown",
   "metadata": {},
   "source": [
    "# Associations"
   ]
  },
  {
   "cell_type": "markdown",
   "metadata": {},
   "source": [
    "Now that observations have been transformed into the map's coordinate space, the next step is to associate each transformed observation with a land mark identifier."
   ]
  },
  {
   "cell_type": "markdown",
   "metadata": {},
   "source": [
    "![title](img/association.png)"
   ]
  },
  {
   "cell_type": "markdown",
   "metadata": {},
   "source": [
    "In the map exercise above we have 5 total landmarks each identified as L1, L2, L3, L4, L5, and each with a known map location. We need to associate each transformed observation TOBS1, TOBS2, TOBS3 with one of these 5 identifiers. To do this we must associate the closest landmark to each transformed observation."
   ]
  },
  {
   "cell_type": "markdown",
   "metadata": {},
   "source": [
    "# Calculating the Particle's Final Weight"
   ]
  },
  {
   "cell_type": "markdown",
   "metadata": {},
   "source": [
    "Now we that we have done the measurement transformations and associations, we have all the pieces we need to calculate the particle's final weight. The particles final weight will be calculated as the product of each measurement's Multivariate-Gaussian probability density.\n",
    "\n",
    "The Multivariate-Gaussian probability density has two dimensions, x and y. The mean of the Multivariate-Gaussian is the measurement's associated landmark position and the Multivariate-Gaussian's standard deviation is described by our initial uncertainty in the x and y ranges. The Multivariate-Gaussian is evaluated at the point of the transformed measurement's position. The formula for the Multivariate-Gaussian can be seen below."
   ]
  },
  {
   "cell_type": "markdown",
   "metadata": {},
   "source": [
    "![title](img/formula2.png)"
   ]
  },
  {
   "cell_type": "markdown",
   "metadata": {},
   "source": [
    "To complete the next set of quizzes, calculate each measurement's Multivariate-Gaussian probability density using the formula above and the previously calculated values. In this example the standard deviation for both x and y is 0.3.\n",
    "\n",
    "Note that x and y are the observations in map coordinates from the landmarks quiz and \\mu_xμ \n",
    "x\n",
    "​\t , \\mu_yμ \n",
    "y\n",
    "​\t  are the coordinates of the nearest landmarks. These should correspond to the correct responses from previous quizzes."
   ]
  },
  {
   "cell_type": "code",
   "execution_count": 22,
   "metadata": {},
   "outputs": [],
   "source": [
    "def multiv_prob(sig_x,sig_y,x_obs,y_obs,mu_x,mu_y):\n",
    "    gauss_norm = 1 / (2 * math.pi * sig_x * sig_y)\n",
    "    exponent = (pow(x_obs - mu_x, 2) / (2 * pow(sig_x, 2)))+ (pow(y_obs - mu_y, 2) / (2 * pow(sig_y, 2)))\n",
    "    weight = gauss_norm * math.exp(-exponent)\n",
    "    return weight"
   ]
  },
  {
   "cell_type": "code",
   "execution_count": 23,
   "metadata": {},
   "outputs": [],
   "source": [
    "## OBS1 values\n",
    "sig_x = 0.3;\n",
    "sig_y = 0.3;\n",
    "x_obs = 6;\n",
    "y_obs = 3;\n",
    "mu_x = 5;\n",
    "mu_y = 3;"
   ]
  },
  {
   "cell_type": "code",
   "execution_count": 24,
   "metadata": {},
   "outputs": [
    {
     "name": "stdout",
     "output_type": "stream",
     "text": [
      "6.84e-03\n"
     ]
    }
   ],
   "source": [
    "weight1 = multiv_prob(sig_x, sig_y, x_obs, y_obs, mu_x, mu_y)\n",
    "print('{:0.2e}'.format(weight1))"
   ]
  },
  {
   "cell_type": "code",
   "execution_count": 25,
   "metadata": {},
   "outputs": [],
   "source": [
    "## OBS2 values\n",
    "sig_x = 0.3;\n",
    "sig_y = 0.3;\n",
    "x_obs = 2;\n",
    "y_obs = 2;\n",
    "mu_x = 2;\n",
    "mu_y = 1;"
   ]
  },
  {
   "cell_type": "code",
   "execution_count": 30,
   "metadata": {},
   "outputs": [
    {
     "name": "stdout",
     "output_type": "stream",
     "text": [
      "6.84e-03\n"
     ]
    }
   ],
   "source": [
    "weight2 = multiv_prob(sig_x, sig_y, x_obs, y_obs, mu_x, mu_y)\n",
    "print('{:0.2e}'.format(weight2))"
   ]
  },
  {
   "cell_type": "code",
   "execution_count": 31,
   "metadata": {},
   "outputs": [],
   "source": [
    "## OBS3 values\n",
    "sig_x = 0.3;\n",
    "sig_y = 0.3;\n",
    "x_obs = 0;\n",
    "y_obs = 5;\n",
    "mu_x = 2;\n",
    "mu_y = 1;"
   ]
  },
  {
   "cell_type": "code",
   "execution_count": 32,
   "metadata": {},
   "outputs": [
    {
     "name": "stdout",
     "output_type": "stream",
     "text": [
      "9.83e-49\n"
     ]
    }
   ],
   "source": [
    "weight3 = multiv_prob(sig_x, sig_y, x_obs, y_obs, mu_x, mu_y)\n",
    "print('{:0.2e}'.format(weight3))"
   ]
  },
  {
   "cell_type": "code",
   "execution_count": 48,
   "metadata": {},
   "outputs": [
    {
     "name": "stdout",
     "output_type": "stream",
     "text": [
      "Final weight: 4.60e-53\n"
     ]
    }
   ],
   "source": [
    "## Output final weight\n",
    "final_weight = weight1 * weight2 * weight3\n",
    "print('Final weight: ' + str('{:0.2e}'.format(final_weight)))"
   ]
  },
  {
   "cell_type": "code",
   "execution_count": 47,
   "metadata": {},
   "outputs": [
    {
     "name": "stdout",
     "output_type": "stream",
     "text": [
      "Weight1: 6.83645e-03\n",
      "Weight2: 6.83645e-03\n",
      "Weight3: 9.83185e-49\n",
      "Final weight: 4.59511e-53\n"
     ]
    }
   ],
   "source": [
    "print('Weight1: ' + str('{:0.5e}'.format(weight1)))\n",
    "print('Weight2: ' + str('{:0.5e}'.format(weight2)))\n",
    "print('Weight3: ' + str('{:0.5e}'.format(weight3)))\n",
    "print('Final weight: ' + str('{:0.5e}'.format(final_weight)))"
   ]
  },
  {
   "cell_type": "code",
   "execution_count": 3,
   "metadata": {},
   "outputs": [
    {
     "data": {
      "text/html": [
       "<iframe width=\"560\" height=\"315\" src=\"https://youtu.be/3VRp4chnPE4\" frameborder=\"0\" allow=\"accelerometer; autoplay; encrypted-media; gyroscope; picture-in-picture\" allowfullscreen></iframe>"
      ],
      "text/plain": [
       "<IPython.core.display.HTML object>"
      ]
     },
     "execution_count": 3,
     "metadata": {},
     "output_type": "execute_result"
    }
   ],
   "source": [
    "from IPython.display import HTML\n",
    "HTML('<iframe width=\"560\" height=\"315\" src=\"https://youtu.be/3VRp4chnPE4\" frameborder=\"0\" allow=\"accelerometer; autoplay; encrypted-media; gyroscope; picture-in-picture\" allowfullscreen></iframe>')"
   ]
  },
  {
   "cell_type": "code",
   "execution_count": null,
   "metadata": {},
   "outputs": [],
   "source": []
  }
 ],
 "metadata": {
  "kernelspec": {
   "display_name": "Python 3",
   "language": "python",
   "name": "python3"
  },
  "language_info": {
   "codemirror_mode": {
    "name": "ipython",
    "version": 3
   },
   "file_extension": ".py",
   "mimetype": "text/x-python",
   "name": "python",
   "nbconvert_exporter": "python",
   "pygments_lexer": "ipython3",
   "version": "3.8.5"
  }
 },
 "nbformat": 4,
 "nbformat_minor": 4
}
